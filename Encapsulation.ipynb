{
 "cells": [
  {
   "cell_type": "code",
   "execution_count": 16,
   "id": "1e392905-7e12-4030-988e-57cdbf01208a",
   "metadata": {},
   "outputs": [
    {
     "name": "stdout",
     "output_type": "stream",
     "text": [
      "25 Max\n",
      "18000\n"
     ]
    }
   ],
   "source": [
    "class SoftwareEngineer:\n",
    "    \n",
    "    def __init__(self, name, age):\n",
    "        self.name = name\n",
    "        self.age = age\n",
    "        #keep private\n",
    "        self._salary = None\n",
    "        self._num_bugs_solved = 0\n",
    "        \n",
    "        \n",
    "# _x = \"protected\"\n",
    "# __x = \"private\"\n",
    "    def code(self):\n",
    "        self._num_bugs_solved += 1\n",
    "        \n",
    "    \n",
    "    #getter\n",
    "    def get_salary(self):\n",
    "        return self._salary\n",
    "    \n",
    "    #setter    \n",
    "    def set_salary(self, base_value):\n",
    "        #check value, enforce constraints\n",
    "        self._salary = self._calculate_salary(base_value)\n",
    "        \n",
    "    \n",
    "    def _calculate_salary(self, base_value):\n",
    "        if self._num_bugs_solved < 10:\n",
    "            return base_value\n",
    "        if self._num_bugs_solved < 100:\n",
    "            return base_value * 2\n",
    "        return base_value * 3\n",
    "        \n",
    "se = SoftwareEngineer('Max',25)\n",
    "print(se.age, se.name)\n",
    "\n",
    "for i in range(300):\n",
    "    se.code()\n",
    "\n",
    "se.set_salary(6000)\n",
    "print(se.get_salary())\n",
    "        \n",
    "        "
   ]
  },
  {
   "cell_type": "code",
   "execution_count": null,
   "id": "9f713769-748e-423e-bd1f-c03e071a3953",
   "metadata": {},
   "outputs": [],
   "source": []
  }
 ],
 "metadata": {
  "kernelspec": {
   "display_name": "Python 3",
   "language": "python",
   "name": "python3"
  },
  "language_info": {
   "codemirror_mode": {
    "name": "ipython",
    "version": 3
   },
   "file_extension": ".py",
   "mimetype": "text/x-python",
   "name": "python",
   "nbconvert_exporter": "python",
   "pygments_lexer": "ipython3",
   "version": "3.8.8"
  }
 },
 "nbformat": 4,
 "nbformat_minor": 5
}
